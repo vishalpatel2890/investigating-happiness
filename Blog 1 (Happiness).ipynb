{
 "cells": [
  {
   "cell_type": "code",
   "execution_count": 6,
   "metadata": {},
   "outputs": [
    {
     "data": {
      "text/html": [
       "<script>requirejs.config({paths: { 'plotly': ['https://cdn.plot.ly/plotly-latest.min']},});if(!window.Plotly) {{require(['plotly'],function(plotly) {window.Plotly=plotly;});}}</script>"
      ],
      "text/vnd.plotly.v1+html": [
       "<script>requirejs.config({paths: { 'plotly': ['https://cdn.plot.ly/plotly-latest.min']},});if(!window.Plotly) {{require(['plotly'],function(plotly) {window.Plotly=plotly;});}}</script>"
      ]
     },
     "metadata": {},
     "output_type": "display_data"
    }
   ],
   "source": [
    "import pandas as pd\n",
    "import plotly as plt\n",
    "import plotly.graph_objs as go\n",
    "import math\n",
    "\n",
    "import numpy as np\n",
    "\n",
    "from plotly.offline import init_notebook_mode, iplot\n",
    "from plotly import tools\n",
    "\n",
    "init_notebook_mode(connected = True)\n",
    "\n",
    "import cufflinks as cf\n"
   ]
  },
  {
   "cell_type": "code",
   "execution_count": 7,
   "metadata": {},
   "outputs": [],
   "source": [
    "from happiness import *\n",
    "getData = GetHappinessData()\n",
    "df = getData.get_all_data()\n",
    "createTrace = CreateUS2017Plot()\n",
    "US = createTrace.create_trace('Life Ladder', 'Happiness', {'color' : 'rgb(22, 96, 167)'})"
   ]
  },
  {
   "cell_type": "code",
   "execution_count": 8,
   "metadata": {},
   "outputs": [],
   "source": [
    "# createTrace.create_comparative_iplot()"
   ]
  },
  {
   "cell_type": "code",
   "execution_count": 9,
   "metadata": {},
   "outputs": [],
   "source": [
    "cf.set_config_file(offline=False, world_readable=True, theme='pearl')"
   ]
  },
  {
   "cell_type": "code",
   "execution_count": 10,
   "metadata": {},
   "outputs": [],
   "source": [
    "world = WorldHappiness()"
   ]
  },
  {
   "cell_type": "code",
   "execution_count": null,
   "metadata": {},
   "outputs": [],
   "source": []
  },
  {
   "cell_type": "code",
   "execution_count": 11,
   "metadata": {},
   "outputs": [
    {
     "data": {
      "text/plain": [
       "Index(['country', 'year', 'Life Ladder', 'Log GDP per capita',\n",
       "       'Social support', 'Healthy life expectancy at birth',\n",
       "       'Freedom to make life choices', 'Generosity',\n",
       "       'Perceptions of corruption', 'Positive affect', 'Negative affect',\n",
       "       'Confidence in national government', 'Democratic Quality',\n",
       "       'Delivery Quality', 'Standard deviation of ladder by country-year',\n",
       "       'Standard deviation/Mean of ladder by country-year',\n",
       "       'GINI index (World Bank estimate)',\n",
       "       'GINI index (World Bank estimate), average 2000-15',\n",
       "       'gini of household income reported in Gallup, by wp5-year'],\n",
       "      dtype='object')"
      ]
     },
     "execution_count": 11,
     "metadata": {},
     "output_type": "execute_result"
    }
   ],
   "source": [
    "world.listofkeys()"
   ]
  },
  {
   "cell_type": "code",
   "execution_count": 14,
   "metadata": {},
   "outputs": [
    {
     "data": {
      "application/vnd.plotly.v1+json": {
       "data": [
        {
         "line": {
          "color": "rgb(22, 96, 167)"
         },
         "mode": "markers+lines",
         "name": "Happiness",
         "type": "scatter",
         "uid": "af7072a2-eb5e-11e8-9de1-9a001190b410",
         "x": [
          2007,
          2008,
          2009,
          2010,
          2011,
          2012,
          2013,
          2014,
          2015,
          2016,
          2017
         ],
         "y": [
          5.418291402798073,
          5.418553961407055,
          5.457640127131813,
          5.496782154806199,
          5.424087842849836,
          5.443750549370135,
          5.3945679316555495,
          5.389023369756238,
          5.404036578598556,
          5.399414284128539,
          5.485542045417407
         ]
        }
       ],
       "layout": {
        "title": "World Happiness Overtime",
        "xaxis": {
         "title": "Years"
        },
        "yaxis": {
         "title": "Happiness"
        }
       }
      },
      "text/html": [
       "<div id=\"0175d0fe-7a84-4d35-88c3-3c0a25d549cf\" style=\"height: 525px; width: 100%;\" class=\"plotly-graph-div\"></div><script type=\"text/javascript\">require([\"plotly\"], function(Plotly) { window.PLOTLYENV=window.PLOTLYENV || {};window.PLOTLYENV.BASE_URL=\"https://plot.ly\";Plotly.newPlot(\"0175d0fe-7a84-4d35-88c3-3c0a25d549cf\", [{\"line\": {\"color\": \"rgb(22, 96, 167)\"}, \"mode\": \"markers+lines\", \"name\": \"Happiness\", \"x\": [2007, 2008, 2009, 2010, 2011, 2012, 2013, 2014, 2015, 2016, 2017], \"y\": [5.418291402798073, 5.418553961407055, 5.457640127131813, 5.496782154806199, 5.424087842849836, 5.443750549370135, 5.3945679316555495, 5.389023369756238, 5.404036578598556, 5.399414284128539, 5.485542045417407], \"type\": \"scatter\", \"uid\": \"af77dd12-eb5e-11e8-a880-9a001190b410\"}], {\"title\": \"World Happiness Overtime\", \"xaxis\": {\"title\": \"Years\"}, \"yaxis\": {\"title\": \"Happiness\"}}, {\"showLink\": true, \"linkText\": \"Export to plot.ly\"})});</script>"
      ],
      "text/vnd.plotly.v1+html": [
       "<div id=\"0175d0fe-7a84-4d35-88c3-3c0a25d549cf\" style=\"height: 525px; width: 100%;\" class=\"plotly-graph-div\"></div><script type=\"text/javascript\">require([\"plotly\"], function(Plotly) { window.PLOTLYENV=window.PLOTLYENV || {};window.PLOTLYENV.BASE_URL=\"https://plot.ly\";Plotly.newPlot(\"0175d0fe-7a84-4d35-88c3-3c0a25d549cf\", [{\"line\": {\"color\": \"rgb(22, 96, 167)\"}, \"mode\": \"markers+lines\", \"name\": \"Happiness\", \"x\": [2007, 2008, 2009, 2010, 2011, 2012, 2013, 2014, 2015, 2016, 2017], \"y\": [5.418291402798073, 5.418553961407055, 5.457640127131813, 5.496782154806199, 5.424087842849836, 5.443750549370135, 5.3945679316555495, 5.389023369756238, 5.404036578598556, 5.399414284128539, 5.485542045417407], \"type\": \"scatter\", \"uid\": \"af77dd12-eb5e-11e8-a880-9a001190b410\"}], {\"title\": \"World Happiness Overtime\", \"xaxis\": {\"title\": \"Years\"}, \"yaxis\": {\"title\": \"Happiness\"}}, {\"showLink\": true, \"linkText\": \"Export to plot.ly\"})});</script>"
      ]
     },
     "metadata": {},
     "output_type": "display_data"
    }
   ],
   "source": [
    "world.changeinAverageOvertime()"
   ]
  },
  {
   "cell_type": "code",
   "execution_count": null,
   "metadata": {},
   "outputs": [],
   "source": []
  },
  {
   "cell_type": "code",
   "execution_count": null,
   "metadata": {},
   "outputs": [],
   "source": [
    "\n"
   ]
  },
  {
   "cell_type": "code",
   "execution_count": null,
   "metadata": {},
   "outputs": [],
   "source": []
  },
  {
   "cell_type": "code",
   "execution_count": null,
   "metadata": {},
   "outputs": [],
   "source": []
  },
  {
   "cell_type": "code",
   "execution_count": null,
   "metadata": {},
   "outputs": [],
   "source": []
  },
  {
   "cell_type": "code",
   "execution_count": null,
   "metadata": {},
   "outputs": [],
   "source": []
  },
  {
   "cell_type": "code",
   "execution_count": null,
   "metadata": {},
   "outputs": [],
   "source": []
  },
  {
   "cell_type": "code",
   "execution_count": null,
   "metadata": {},
   "outputs": [],
   "source": []
  },
  {
   "cell_type": "code",
   "execution_count": null,
   "metadata": {},
   "outputs": [],
   "source": []
  },
  {
   "cell_type": "code",
   "execution_count": null,
   "metadata": {},
   "outputs": [],
   "source": []
  },
  {
   "cell_type": "code",
   "execution_count": null,
   "metadata": {},
   "outputs": [],
   "source": []
  },
  {
   "cell_type": "code",
   "execution_count": null,
   "metadata": {},
   "outputs": [],
   "source": []
  },
  {
   "cell_type": "code",
   "execution_count": null,
   "metadata": {
    "scrolled": true
   },
   "outputs": [],
   "source": [
    "\n",
    "\n"
   ]
  },
  {
   "cell_type": "code",
   "execution_count": null,
   "metadata": {},
   "outputs": [],
   "source": []
  },
  {
   "cell_type": "code",
   "execution_count": null,
   "metadata": {},
   "outputs": [],
   "source": []
  },
  {
   "cell_type": "code",
   "execution_count": null,
   "metadata": {},
   "outputs": [],
   "source": []
  },
  {
   "cell_type": "code",
   "execution_count": null,
   "metadata": {},
   "outputs": [],
   "source": []
  },
  {
   "cell_type": "code",
   "execution_count": null,
   "metadata": {},
   "outputs": [],
   "source": []
  },
  {
   "cell_type": "code",
   "execution_count": null,
   "metadata": {},
   "outputs": [],
   "source": []
  },
  {
   "cell_type": "code",
   "execution_count": null,
   "metadata": {},
   "outputs": [],
   "source": []
  },
  {
   "cell_type": "code",
   "execution_count": null,
   "metadata": {},
   "outputs": [],
   "source": []
  },
  {
   "cell_type": "code",
   "execution_count": null,
   "metadata": {},
   "outputs": [],
   "source": []
  }
 ],
 "metadata": {
  "kernelspec": {
   "display_name": "Python 3",
   "language": "python",
   "name": "python3"
  },
  "language_info": {
   "codemirror_mode": {
    "name": "ipython",
    "version": 3
   },
   "file_extension": ".py",
   "mimetype": "text/x-python",
   "name": "python",
   "nbconvert_exporter": "python",
   "pygments_lexer": "ipython3",
   "version": "3.6.5"
  }
 },
 "nbformat": 4,
 "nbformat_minor": 2
}
